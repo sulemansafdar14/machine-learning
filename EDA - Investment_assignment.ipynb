{
 "cells": [
  {
   "cell_type": "markdown",
   "metadata": {},
   "source": [
    "### Sparks Funds Investment analysis assignment\n",
    "Spark Funds, an asset management company wants to make investments in a few companies. The CEO of Spark Funds wants to understand the global trends in investments so that she can take the investment decisions effectively"
   ]
  },
  {
   "cell_type": "markdown",
   "metadata": {},
   "source": [
    "#### Importing the necessary python libraries"
   ]
  },
  {
   "cell_type": "code",
   "execution_count": 1,
   "metadata": {},
   "outputs": [],
   "source": [
    "import numpy as np\n",
    "import pandas as pd\n",
    "import matplotlib.pyplot as plt\n",
    "import seaborn as sns"
   ]
  },
  {
   "cell_type": "markdown",
   "metadata": {},
   "source": [
    "#### Reading the files for analysis\n",
    "Reading and storing the companies, investment rounds and sector mapping datasets into pandas dataframes using the ANSI encoding, as these files contains certain special characters that cannot be read by ISO-8859-1 encoding"
   ]
  },
  {
   "cell_type": "code",
   "execution_count": 2,
   "metadata": {
    "scrolled": true
   },
   "outputs": [],
   "source": [
    "companies = pd.read_csv(\"D:/Upgrad-AI & ML/Investment Assignment/companies.txt\", sep=\"\\t\", encoding = \"ANSI\")\n",
    "rounds2 = pd.read_csv(\"D:/Upgrad-AI & ML/Investment Assignment/rounds2.csv\",encoding = \"ANSI\")\n",
    "mapping = pd.read_csv(\"D:/Upgrad-AI & ML/Investment Assignment/mapping.csv\",encoding = \"ANSI\")"
   ]
  },
  {
   "cell_type": "markdown",
   "metadata": {},
   "source": [
    "#### Pre-processing the rounds2 & companies datasets"
   ]
  },
  {
   "cell_type": "code",
   "execution_count": 3,
   "metadata": {},
   "outputs": [],
   "source": [
    "# Converting the company unique id 'permalink' & 'company_permalink' to lowercase in both the companies & rounds2 datasets\n",
    "companies.loc[:,'permalink'] = companies['permalink'].str.lower()\n",
    "rounds2.loc[:,'company_permalink'] = rounds2['company_permalink'].str.lower()"
   ]
  },
  {
   "cell_type": "markdown",
   "metadata": {},
   "source": [
    "#### Finding out the number of unique companies in rounds2 & companies files"
   ]
  },
  {
   "cell_type": "code",
   "execution_count": 4,
   "metadata": {},
   "outputs": [
    {
     "name": "stdout",
     "output_type": "stream",
     "text": [
      "The number of unique companies in rounds2 are: 66368\n",
      "The number of unique companies in companies database are: 66368\n"
     ]
    }
   ],
   "source": [
    "print(\"The number of unique companies in rounds2 are: \" + str(len(rounds2['company_permalink'].unique().tolist())))\n",
    "print(\"The number of unique companies in companies database are: \" + str(len(companies['permalink'].unique().tolist())))"
   ]
  },
  {
   "cell_type": "markdown",
   "metadata": {},
   "source": [
    "#### Finding out if there any companies in the rounds2 file which are not  present in companies file"
   ]
  },
  {
   "cell_type": "code",
   "execution_count": 5,
   "metadata": {},
   "outputs": [
    {
     "name": "stdout",
     "output_type": "stream",
     "text": [
      "No. of companies not present in companies dataset: 0\n"
     ]
    },
    {
     "data": {
      "text/html": [
       "<div>\n",
       "<style scoped>\n",
       "    .dataframe tbody tr th:only-of-type {\n",
       "        vertical-align: middle;\n",
       "    }\n",
       "\n",
       "    .dataframe tbody tr th {\n",
       "        vertical-align: top;\n",
       "    }\n",
       "\n",
       "    .dataframe thead th {\n",
       "        text-align: right;\n",
       "    }\n",
       "</style>\n",
       "<table border=\"1\" class=\"dataframe\">\n",
       "  <thead>\n",
       "    <tr style=\"text-align: right;\">\n",
       "      <th></th>\n",
       "      <th>company_permalink</th>\n",
       "      <th>permalink</th>\n",
       "    </tr>\n",
       "  </thead>\n",
       "  <tbody>\n",
       "  </tbody>\n",
       "</table>\n",
       "</div>"
      ],
      "text/plain": [
       "Empty DataFrame\n",
       "Columns: [company_permalink, permalink]\n",
       "Index: []"
      ]
     },
     "execution_count": 5,
     "metadata": {},
     "output_type": "execute_result"
    }
   ],
   "source": [
    "rounds2_companies_merge = pd.merge(rounds2[['company_permalink']], companies[['permalink']], \n",
    "                                   how = 'left', left_on = 'company_permalink', right_on = 'permalink')\n",
    "print(\"No. of companies not present in companies dataset: \" + str(rounds2_companies_merge['permalink'].isnull().sum()))\n",
    "rounds2_companies_merge.loc[rounds2_companies_merge['permalink'].isnull(),:]"
   ]
  },
  {
   "cell_type": "markdown",
   "metadata": {},
   "source": [
    "#### Creating a merged master dataset out of rounds2 and companies datasets"
   ]
  },
  {
   "cell_type": "code",
   "execution_count": 6,
   "metadata": {},
   "outputs": [
    {
     "data": {
      "text/plain": [
       "114949"
      ]
     },
     "execution_count": 6,
     "metadata": {},
     "output_type": "execute_result"
    }
   ],
   "source": [
    "master_frame = pd.merge(rounds2, companies, how = 'left', left_on = 'company_permalink', right_on = 'permalink')\n",
    "\n",
    "# Finding out number of observations in the master dataframe\n",
    "len(master_frame)"
   ]
  },
  {
   "cell_type": "code",
   "execution_count": 7,
   "metadata": {},
   "outputs": [
    {
     "data": {
      "text/plain": [
       "company_permalink           0.00\n",
       "funding_round_permalink     0.00\n",
       "funding_round_type          0.00\n",
       "funding_round_code         72.91\n",
       "funded_at                   0.00\n",
       "raised_amount_usd          17.39\n",
       "permalink                   0.00\n",
       "name                        0.00\n",
       "homepage_url                5.34\n",
       "category_list               2.97\n",
       "status                      0.00\n",
       "country_code                7.55\n",
       "state_code                  9.52\n",
       "region                      8.84\n",
       "city                        8.84\n",
       "founded_at                 17.85\n",
       "dtype: float64"
      ]
     },
     "execution_count": 7,
     "metadata": {},
     "output_type": "execute_result"
    }
   ],
   "source": [
    "# Finding out percatage null values in each column of the merged dataset\n",
    "round(100*(master_frame.isnull().sum()/len(master_frame.index)), 2)"
   ]
  },
  {
   "cell_type": "code",
   "execution_count": 8,
   "metadata": {},
   "outputs": [],
   "source": [
    "# Dropping funding_round_code column having 73% of null values\n",
    "master_frame = master_frame.drop('funding_round_code', axis=1)"
   ]
  },
  {
   "cell_type": "code",
   "execution_count": 9,
   "metadata": {},
   "outputs": [
    {
     "data": {
      "text/plain": [
       "company_permalink           0.00\n",
       "funding_round_permalink     0.00\n",
       "funding_round_type          0.00\n",
       "funded_at                   0.00\n",
       "raised_amount_usd           0.00\n",
       "permalink                   0.00\n",
       "name                        0.00\n",
       "homepage_url                4.56\n",
       "category_list               1.10\n",
       "status                      0.00\n",
       "country_code                6.16\n",
       "state_code                  8.01\n",
       "region                      7.42\n",
       "city                        7.42\n",
       "founded_at                 16.81\n",
       "dtype: float64"
      ]
     },
     "execution_count": 9,
     "metadata": {},
     "output_type": "execute_result"
    }
   ],
   "source": [
    "# Removing rows having null values in the raised_amount_usd column\n",
    "master_frame = master_frame.loc[~master_frame['raised_amount_usd'].isnull(),:]\n",
    "round(100*(master_frame.isnull().sum()/len(master_frame.index)), 2)"
   ]
  },
  {
   "cell_type": "code",
   "execution_count": 10,
   "metadata": {},
   "outputs": [],
   "source": [
    "# Creating a dataset grouped by various funding types\n",
    "funding_by_segment = master_frame.groupby('funding_round_type')"
   ]
  },
  {
   "cell_type": "code",
   "execution_count": 11,
   "metadata": {},
   "outputs": [
    {
     "data": {
      "text/plain": [
       "funding_round_type\n",
       "angel                    9.586945e+05\n",
       "convertible_note         1.453439e+06\n",
       "debt_financing           1.704353e+07\n",
       "equity_crowdfunding      5.383682e+05\n",
       "grant                    4.300576e+06\n",
       "non_equity_assistance    4.112031e+05\n",
       "post_ipo_debt            1.687046e+08\n",
       "post_ipo_equity          8.218249e+07\n",
       "private_equity           7.330859e+07\n",
       "product_crowdfunding     1.363131e+06\n",
       "secondary_market         7.964963e+07\n",
       "seed                     7.198180e+05\n",
       "undisclosed              1.924237e+07\n",
       "venture                  1.174895e+07\n",
       "Name: raised_amount_usd, dtype: float64"
      ]
     },
     "execution_count": 11,
     "metadata": {},
     "output_type": "execute_result"
    }
   ],
   "source": [
    "# Finding out average investment across various funding types\n",
    "funding_by_segment.raised_amount_usd.mean()"
   ]
  },
  {
   "cell_type": "markdown",
   "metadata": {},
   "source": [
    "#### Plot showing the fraction of total investments (globally) in venture, seed, and private equity, & average amount of investment in each funding type"
   ]
  },
  {
   "cell_type": "code",
   "execution_count": 12,
   "metadata": {},
   "outputs": [
    {
     "name": "stderr",
     "output_type": "stream",
     "text": [
      "C:\\Users\\SS\\Anaconda3\\lib\\site-packages\\ipykernel_launcher.py:4: SettingWithCopyWarning: \n",
      "A value is trying to be set on a copy of a slice from a DataFrame.\n",
      "Try using .loc[row_indexer,col_indexer] = value instead\n",
      "\n",
      "See the caveats in the documentation: http://pandas.pydata.org/pandas-docs/stable/indexing.html#indexing-view-versus-copy\n",
      "  after removing the cwd from sys.path.\n",
      "C:\\Users\\SS\\Anaconda3\\lib\\site-packages\\ipykernel_launcher.py:6: SettingWithCopyWarning: \n",
      "A value is trying to be set on a copy of a slice from a DataFrame.\n",
      "Try using .loc[row_indexer,col_indexer] = value instead\n",
      "\n",
      "See the caveats in the documentation: http://pandas.pydata.org/pandas-docs/stable/indexing.html#indexing-view-versus-copy\n",
      "  \n"
     ]
    },
    {
     "data": {
      "image/png": "[encoded data removed]",
      "text/plain": [
       "<Figure size 864x576 with 2 Axes>"
      ]
     },
     "metadata": {
      "needs_background": "light"
     },
     "output_type": "display_data"
    }
   ],
   "source": [
    "# Creating a Angel, venture and Private equity investments dataset with investment amount in $ millions\n",
    "funding_type_list = ['venture','seed','private_equity']\n",
    "venture_fund_frame = master_frame[master_frame['funding_round_type'].isin(funding_type_list)]\n",
    "venture_fund_frame['raised_amount_usd'] = round(venture_fund_frame['raised_amount_usd']/1000000,2)\n",
    "total_investment = round(sum(master_frame['raised_amount_usd'])/1000000,2)\n",
    "venture_fund_frame['fraction_amount_of_investment'] = venture_fund_frame['raised_amount_usd']/total_investment\n",
    "\n",
    "# Plotting the Angel, Venture and Private equity investments\n",
    "plt.figure(1,figsize=(12, 8))\n",
    "plt.subplot(121)\n",
    "plt.title('Fraction Total amount of investment vs Funding type')\n",
    "plt.yticks(np.arange(0, 1, 0.05))\n",
    "plot1 = sns.barplot(x='funding_round_type', y='fraction_amount_of_investment', data=venture_fund_frame, estimator=sum, ci=None)\n",
    "plot1.set(xlabel='Funding Type', ylabel='Fraction of Total investment amount')\n",
    "\n",
    "plt.subplot(122)\n",
    "plt.title('Average amount of investment vs Funding type')\n",
    "plt.yticks(np.arange(0, 75, 5))\n",
    "plot2 = sns.barplot(x='funding_round_type', y='raised_amount_usd', data=venture_fund_frame, estimator=np.mean)\n",
    "plot2.set(xlabel='Funding Type', ylabel='Average investment amount (in million USD)')\n",
    "\n",
    "plt.show()"
   ]
  },
  {
   "cell_type": "code",
   "execution_count": 13,
   "metadata": {},
   "outputs": [],
   "source": [
    "# Extracting Venture type investments from the master dataframe\n",
    "venture_fund_frame = master_frame[master_frame['funding_round_type']=='venture']\n",
    "# Removing rows having null values in country_code column of the master dataframe\n",
    "venture_fund_frame = venture_fund_frame.loc[~venture_fund_frame['country_code'].isnull(),:]"
   ]
  },
  {
   "cell_type": "code",
   "execution_count": 14,
   "metadata": {},
   "outputs": [
    {
     "data": {
      "text/plain": [
       "country_code\n",
       "USA    4.225108e+11\n",
       "CHN    3.983542e+10\n",
       "GBR    2.024563e+10\n",
       "IND    1.439186e+10\n",
       "CAN    9.583332e+09\n",
       "FRA    7.259537e+09\n",
       "ISR    6.907515e+09\n",
       "DEU    6.346960e+09\n",
       "JPN    3.363677e+09\n",
       "Name: raised_amount_usd, dtype: float64"
      ]
     },
     "execution_count": 14,
     "metadata": {},
     "output_type": "execute_result"
    }
   ],
   "source": [
    "# Finding out the top-9 countries in terms of total amount of Venture type investments in the World\n",
    "funding_by_country = venture_fund_frame.groupby('country_code')\n",
    "funding_by_country.raised_amount_usd.sum().sort_values(ascending=False).head(9)"
   ]
  },
  {
   "cell_type": "code",
   "execution_count": 363,
   "metadata": {},
   "outputs": [],
   "source": [
    "# Creating a list of the top 9 countries in terms of total amount of Venture investments\n",
    "top9_list = funding_by_country.raised_amount_usd.sum().sort_values(ascending=False).head(9).index.tolist()"
   ]
  },
  {
   "cell_type": "code",
   "execution_count": 364,
   "metadata": {},
   "outputs": [],
   "source": [
    "# Creating a dataset of the top 9 countries in terms of total amount of Venture investments\n",
    "top9 = venture_fund_frame[venture_fund_frame['country_code'].isin(top9_list)]"
   ]
  },
  {
   "cell_type": "markdown",
   "metadata": {},
   "source": [
    "#### Plot showing the top 9 countries against the total amount of investments of funding type Venture\n",
    "This will make the top 3 countries very clear"
   ]
  },
  {
   "cell_type": "code",
   "execution_count": 365,
   "metadata": {},
   "outputs": [
    {
     "name": "stderr",
     "output_type": "stream",
     "text": [
      "C:\\Users\\SS\\Anaconda3\\lib\\site-packages\\ipykernel_launcher.py:3: SettingWithCopyWarning: \n",
      "A value is trying to be set on a copy of a slice from a DataFrame.\n",
      "Try using .loc[row_indexer,col_indexer] = value instead\n",
      "\n",
      "See the caveats in the documentation: http://pandas.pydata.org/pandas-docs/stable/indexing.html#indexing-view-versus-copy\n",
      "  This is separate from the ipykernel package so we can avoid doing imports until\n"
     ]
    },
    {
     "data": {
      "image/png": "[encoded data removed]",
      "text/plain": [
       "<Figure size 960x640 with 1 Axes>"
      ]
     },
     "metadata": {},
     "output_type": "display_data"
    }
   ],
   "source": [
    "# Creating a Plot showing the top 9 countries against the total amount of investments of funding type Venture\n",
    "top9_plot = top9\n",
    "top9_plot['raised_amount_usd_millions'] = round(top9_plot['raised_amount_usd']/1000000,2)\n",
    "                                                \n",
    "plt.figure(num=None, figsize=(12, 8), dpi=80, facecolor='w', edgecolor='k')\n",
    "plt.title('Country-wise Total Venture investment')\n",
    "plot3 = sns.barplot(x='country_code', y='raised_amount_usd_millions', data=top9, estimator=sum, ci=None)\n",
    "plot3.set(xlabel='Country', ylabel='Total amount of investment (in million USD)')\n",
    "plt.show()"
   ]
  },
  {
   "cell_type": "code",
   "execution_count": 15,
   "metadata": {},
   "outputs": [],
   "source": [
    "# Removing the rows having null value in the category_list column of the master dataframe\n",
    "master_frame = master_frame[~master_frame['category_list'].isnull()]"
   ]
  },
  {
   "cell_type": "code",
   "execution_count": 16,
   "metadata": {
    "scrolled": true
   },
   "outputs": [
    {
     "name": "stderr",
     "output_type": "stream",
     "text": [
      "C:\\Users\\SS\\Anaconda3\\lib\\site-packages\\ipykernel_launcher.py:3: SettingWithCopyWarning: \n",
      "A value is trying to be set on a copy of a slice from a DataFrame.\n",
      "Try using .loc[row_indexer,col_indexer] = value instead\n",
      "\n",
      "See the caveats in the documentation: http://pandas.pydata.org/pandas-docs/stable/indexing.html#indexing-view-versus-copy\n",
      "  This is separate from the ipykernel package so we can avoid doing imports until\n"
     ]
    }
   ],
   "source": [
    "# Extracting the primary sector from category_list column of the master dataframe\n",
    "sector_list = list(master_frame['category_list'])\n",
    "master_frame['primary_sector'] = list(map(lambda x: str(x).split('|',1)[0],sector_list))"
   ]
  },
  {
   "cell_type": "code",
   "execution_count": 17,
   "metadata": {},
   "outputs": [],
   "source": [
    "# Pre-processing the mapping dataset removing the blank column and removing rows having no primary sector\n",
    "mapping = mapping.drop('Blanks', axis = 1)\n",
    "mapping = mapping[~mapping['category_list'].isnull()]\n",
    "\n",
    "# Replacing '0' with 'na' in the primary sector column values of the mapping dataset\n",
    "mapping['category_list'] = list(map(lambda x:x.replace('0','na'),list(mapping['category_list'])))"
   ]
  },
  {
   "cell_type": "code",
   "execution_count": 18,
   "metadata": {},
   "outputs": [],
   "source": [
    "# Adding the main sector against the primary sector in the mapping dataset (column having '1' against the primary sector)\n",
    "mapping['main_sector'] = mapping.apply(lambda x:list(mapping.columns[x==1])[0], axis = 1)"
   ]
  },
  {
   "cell_type": "code",
   "execution_count": 19,
   "metadata": {},
   "outputs": [
    {
     "name": "stderr",
     "output_type": "stream",
     "text": [
      "C:\\Users\\SS\\Anaconda3\\lib\\site-packages\\ipykernel_launcher.py:3: SettingWithCopyWarning: \n",
      "A value is trying to be set on a copy of a slice from a DataFrame.\n",
      "Try using .loc[row_indexer,col_indexer] = value instead\n",
      "\n",
      "See the caveats in the documentation: http://pandas.pydata.org/pandas-docs/stable/indexing.html#indexing-view-versus-copy\n",
      "  This is separate from the ipykernel package so we can avoid doing imports until\n"
     ]
    }
   ],
   "source": [
    "# Converting the primary sector to lower case in master and mapping dataframes to facilitate better mapping\n",
    "mapping['category_list'] = mapping['category_list'].str.lower()\n",
    "master_frame['primary_sector'] = master_frame['primary_sector'].str.lower()"
   ]
  },
  {
   "cell_type": "code",
   "execution_count": 20,
   "metadata": {},
   "outputs": [],
   "source": [
    "# Creating a merged master dataframe with main sector mapped against primary sector\n",
    "master_frame = pd.merge(master_frame, mapping[['category_list','main_sector']], how = 'left', \n",
    "                        left_on = 'primary_sector', right_on = 'category_list')"
   ]
  },
  {
   "cell_type": "code",
   "execution_count": 21,
   "metadata": {},
   "outputs": [],
   "source": [
    "# Removing the rows having null values in the main sector column of the merged master dataframe\n",
    "master_frame = master_frame[~master_frame['main_sector'].isnull()]"
   ]
  },
  {
   "cell_type": "code",
   "execution_count": 22,
   "metadata": {},
   "outputs": [],
   "source": [
    "# Renaming column names for the merged master data frame with main sectors mapped as a column from the mapping file\n",
    "master_frame = master_frame.drop('category_list_y', axis=1)\n",
    "master_frame = master_frame.rename(columns = {\"category_list_x\": \"category_list\"})"
   ]
  },
  {
   "cell_type": "markdown",
   "metadata": {},
   "source": [
    "#### Finding out No. and Amount of investments in USA, UK and India"
   ]
  },
  {
   "cell_type": "code",
   "execution_count": 23,
   "metadata": {},
   "outputs": [],
   "source": [
    "# Creating three dataframes for USA, UK and India Venture funding investments between $5-15 mmillion\n",
    "d1 = master_frame[(master_frame.funding_round_type == 'venture') & (master_frame.country_code == 'USA')\n",
    "                 & ((master_frame.raised_amount_usd >= 5000000) & (master_frame.raised_amount_usd <= 15000000))]\n",
    "d2 = master_frame[(master_frame.funding_round_type == 'venture') & (master_frame.country_code == 'GBR')\n",
    "                 & ((master_frame.raised_amount_usd >= 5000000) & (master_frame.raised_amount_usd <= 15000000))]\n",
    "d3 = master_frame[(master_frame.funding_round_type == 'venture') & (master_frame.country_code == 'IND')\n",
    "                 & ((master_frame.raised_amount_usd >= 5000000) & (master_frame.raised_amount_usd <= 15000000))]"
   ]
  },
  {
   "cell_type": "code",
   "execution_count": 24,
   "metadata": {},
   "outputs": [
    {
     "name": "stdout",
     "output_type": "stream",
     "text": [
      "Total number of Investments in USA is 12063, UK is 621 and India is 328\n",
      "Total amount of Investments in USA is 107757097294.0, UK is 5379078691.0 and India is 2949543602.0\n"
     ]
    }
   ],
   "source": [
    "# Finding out No. and Amount of investments for USA, UK and India\n",
    "print('Total number of Investments in USA is {}, UK is {} and India is {}'\n",
    "      .format(d1['raised_amount_usd'].count(),d2['raised_amount_usd'].count(),d3['raised_amount_usd'].count()))\n",
    "print('Total amount of Investments in USA is {}, UK is {} and India is {}'\n",
    "      .format(d1['raised_amount_usd'].sum(),d2['raised_amount_usd'].sum(),d3['raised_amount_usd'].sum()))"
   ]
  },
  {
   "cell_type": "markdown",
   "metadata": {},
   "source": [
    "#### Finding out the highest investment sectors in USA, UK and India\n",
    "This has been done through the following simple steps:\n",
    "1. Grouping the USA, UK and India datasets on main sectors\n",
    "2. Finding out the top sectors (in terms of No. of Venture funding investments between $5-15 millions) in USA, UK and India"
   ]
  },
  {
   "cell_type": "code",
   "execution_count": 25,
   "metadata": {},
   "outputs": [],
   "source": [
    "# Creating sector-wise grouped dataframes for USA, UK and India\n",
    "d1_sectorwise = d1.groupby('main_sector')\n",
    "d2_sectorwise = d2.groupby('main_sector')\n",
    "d3_sectorwise = d3.groupby('main_sector')"
   ]
  },
  {
   "cell_type": "code",
   "execution_count": 26,
   "metadata": {},
   "outputs": [],
   "source": [
    "# Adding No. of investments in the sector as a column to the USA, UK and India datasets\n",
    "d1 = pd.merge(d1,d1_sectorwise.raised_amount_usd.count(), on = 'main_sector', how = 'left')\n",
    "d1 = d1.rename(columns = {'raised_amount_usd_y':'no. of investments','raised_amount_usd_x':'raised_amount_usd'})\n",
    "d2 = pd.merge(d2,d2_sectorwise.raised_amount_usd.count(), on = 'main_sector', how = 'left')\n",
    "d2 = d2.rename(columns = {'raised_amount_usd_y':'no. of investments','raised_amount_usd_x':'raised_amount_usd'})\n",
    "d3 = pd.merge(d3,d3_sectorwise.raised_amount_usd.count(), on = 'main_sector', how = 'left')\n",
    "d3 = d3.rename(columns = {'raised_amount_usd_y':'no. of investments','raised_amount_usd_x':'raised_amount_usd'})"
   ]
  },
  {
   "cell_type": "code",
   "execution_count": 27,
   "metadata": {},
   "outputs": [],
   "source": [
    "# Adding Total amount of investment in the sector as a column to the USA, UK and India datasets\n",
    "d1 = pd.merge(d1,d1_sectorwise.raised_amount_usd.sum(), on = 'main_sector', how = 'left')\n",
    "d1 = d1.rename(columns = {'raised_amount_usd_y':'amount of investments','raised_amount_usd_x':'raised_amount_usd'})\n",
    "d2 = pd.merge(d2,d2_sectorwise.raised_amount_usd.sum(), on = 'main_sector', how = 'left')\n",
    "d2 = d2.rename(columns = {'raised_amount_usd_y':'amount of investments','raised_amount_usd_x':'raised_amount_usd'})\n",
    "d3 = pd.merge(d3,d3_sectorwise.raised_amount_usd.sum(), on = 'main_sector', how = 'left')\n",
    "d3 = d3.rename(columns = {'raised_amount_usd_y':'amount of investments','raised_amount_usd_x':'raised_amount_usd'})"
   ]
  },
  {
   "cell_type": "code",
   "execution_count": 28,
   "metadata": {},
   "outputs": [
    {
     "data": {
      "text/plain": [
       "main_sector\n",
       "Others                                     2950\n",
       "Social, Finance, Analytics, Advertising    2714\n",
       "Cleantech / Semiconductors                 2350\n",
       "News, Search and Messaging                 1583\n",
       "Health                                      909\n",
       "Manufacturing                               799\n",
       "Entertainment                               591\n",
       "Automotive & Sports                         167\n",
       "Name: raised_amount_usd, dtype: int64"
      ]
     },
     "execution_count": 28,
     "metadata": {},
     "output_type": "execute_result"
    }
   ],
   "source": [
    "d1_sectorwise.raised_amount_usd.count().sort_values(ascending = False)"
   ]
  },
  {
   "cell_type": "code",
   "execution_count": 380,
   "metadata": {},
   "outputs": [
    {
     "data": {
      "text/plain": [
       "main_sector\n",
       "Others                                     147\n",
       "Social, Finance, Analytics, Advertising    133\n",
       "Cleantech / Semiconductors                 130\n",
       "News, Search and Messaging                  73\n",
       "Entertainment                               56\n",
       "Manufacturing                               42\n",
       "Health                                      24\n",
       "Automotive & Sports                         16\n",
       "Name: raised_amount_usd, dtype: int64"
      ]
     },
     "execution_count": 380,
     "metadata": {},
     "output_type": "execute_result"
    }
   ],
   "source": [
    "d2_sectorwise.raised_amount_usd.count().sort_values(ascending = False)"
   ]
  },
  {
   "cell_type": "code",
   "execution_count": 29,
   "metadata": {},
   "outputs": [
    {
     "data": {
      "text/plain": [
       "main_sector\n",
       "Others                                     110\n",
       "Social, Finance, Analytics, Advertising     60\n",
       "News, Search and Messaging                  52\n",
       "Entertainment                               33\n",
       "Manufacturing                               21\n",
       "Cleantech / Semiconductors                  20\n",
       "Health                                      19\n",
       "Automotive & Sports                         13\n",
       "Name: raised_amount_usd, dtype: int64"
      ]
     },
     "execution_count": 29,
     "metadata": {},
     "output_type": "execute_result"
    }
   ],
   "source": [
    "d3_sectorwise.raised_amount_usd.count().sort_values(ascending = False)"
   ]
  },
  {
   "cell_type": "markdown",
   "metadata": {},
   "source": [
    "#### Finding out the highest investment companies (in terms of amount of investment) in the most invested sectors in USA, UK and India\n",
    "This has been done through the following simple steps:\n",
    "1. Creating 3 seperate dataframes for the most heavily invested sectors in USA, UK and India respectively\n",
    "2. Finding out the top-5 firms (in terms of amount of Venture funding investment between $5-15 millions) for the most heavily invested sectors in USA, UK and India"
   ]
  },
  {
   "cell_type": "code",
   "execution_count": 30,
   "metadata": {},
   "outputs": [],
   "source": [
    "# Creating 3 seperate dataframes for the most heavily invested sectors in USA, UK and India respectively\n",
    "# As found out earlier this sector is Others for USA, UK and India\n",
    "d1_companywise1 = d1[(d1.main_sector == 'Others')]\n",
    "d1_companywise1 = d1_companywise1.groupby('company_permalink')\n",
    "d2_companywise1 = d2[(d2.main_sector == 'Others')]\n",
    "d2_companywise1 = d2_companywise1.groupby('company_permalink')\n",
    "d3_companywise1 = d3[(d3.main_sector == 'Others')]\n",
    "d3_companywise1 = d3_companywise1.groupby('company_permalink')"
   ]
  },
  {
   "cell_type": "code",
   "execution_count": 31,
   "metadata": {},
   "outputs": [
    {
     "data": {
      "text/plain": [
       "company_permalink\n",
       "/organization/virtustream            64300000.0\n",
       "/organization/capella                54968051.0\n",
       "/organization/airtight-networks      54201907.0\n",
       "/organization/decarta                52100000.0\n",
       "/organization/black-duck-software    51000000.0\n",
       "Name: raised_amount_usd, dtype: float64"
      ]
     },
     "execution_count": 31,
     "metadata": {},
     "output_type": "execute_result"
    }
   ],
   "source": [
    "# Finding out the top-5 firms in USA from Others sector in terms of Venture funding between $5-15 millions\n",
    "d1_companywise1.raised_amount_usd.sum().sort_values(ascending=False).head(5)"
   ]
  },
  {
   "cell_type": "code",
   "execution_count": 32,
   "metadata": {},
   "outputs": [
    {
     "data": {
      "text/plain": [
       "company_permalink\n",
       "/organization/electric-cloud             37000000.0\n",
       "/organization/sensage                    36250000.0\n",
       "/organization/enigmatic                  32500000.0\n",
       "/organization/silverrail-technologies    29000000.0\n",
       "/organization/opencloud                  27972766.0\n",
       "Name: raised_amount_usd, dtype: float64"
      ]
     },
     "execution_count": 32,
     "metadata": {},
     "output_type": "execute_result"
    }
   ],
   "source": [
    "# Finding out the top-5 firms in UK from Others sector in terms of Venture funding between $5-15 millions\n",
    "d2_companywise1.raised_amount_usd.sum().sort_values(ascending=False).head(5)"
   ]
  },
  {
   "cell_type": "code",
   "execution_count": 33,
   "metadata": {},
   "outputs": [
    {
     "data": {
      "text/plain": [
       "company_permalink\n",
       "/organization/firstcry-com        39000000.0\n",
       "/organization/myntra              38000000.0\n",
       "/organization/commonfloor         32900000.0\n",
       "/organization/pepperfry-com       28000000.0\n",
       "/organization/itzcash-card-ltd    25000000.0\n",
       "Name: raised_amount_usd, dtype: float64"
      ]
     },
     "execution_count": 33,
     "metadata": {},
     "output_type": "execute_result"
    }
   ],
   "source": [
    "# Finding out the top-5 firms in India from Others sector in terms of Venture funding between $5-15 millions\n",
    "d3_companywise1.raised_amount_usd.sum().sort_values(ascending=False).head(5)"
   ]
  },
  {
   "cell_type": "markdown",
   "metadata": {},
   "source": [
    "#### Finding out the highest investment companies (in terms of amount of investment) in the second most invested sectors in USA, UK and India\n",
    "This has been done through the following simple steps:\n",
    "1. Creating 3 seperate dataframes for the second most heavily invested sectors in USA, UK and India respectively\n",
    "2. Finding out the top-5 firms (in terms of amount of Venture funding investment between $5-15 millions) for the second most heavily invested sectors in USA, UK and India"
   ]
  },
  {
   "cell_type": "code",
   "execution_count": 34,
   "metadata": {},
   "outputs": [],
   "source": [
    "# Creating 3 seperate dataframes for the second most heavily invested sectors in USA, UK and India respectively\n",
    "# As found out earlier these sectors are Social, Finance, Analytics, Advertising for USA & UK and India\n",
    "\n",
    "d1_companywise2 = d1[(d1.main_sector == 'Social, Finance, Analytics, Advertising')]\n",
    "d1_companywise2 = d1_companywise2.groupby('company_permalink')\n",
    "d2_companywise2 = d2[(d2.main_sector == 'Social, Finance, Analytics, Advertising')]\n",
    "d2_companywise2 = d2_companywise2.groupby('company_permalink')\n",
    "d3_companywise2 = d3[(d3.main_sector == 'Social, Finance, Analytics, Advertising')]\n",
    "d3_companywise2 = d3_companywise2.groupby('company_permalink')"
   ]
  },
  {
   "cell_type": "code",
   "execution_count": 35,
   "metadata": {},
   "outputs": [
    {
     "data": {
      "text/plain": [
       "company_permalink\n",
       "/organization/shotspotter    67933006.0\n",
       "/organization/demandbase     63000000.0\n",
       "/organization/intacct        61800000.0\n",
       "/organization/netbase        60600000.0\n",
       "/organization/lotame         59700000.0\n",
       "Name: raised_amount_usd, dtype: float64"
      ]
     },
     "execution_count": 35,
     "metadata": {},
     "output_type": "execute_result"
    }
   ],
   "source": [
    "# Finding out the top-5 firms in USA from Social, Finance, Analytics, Advertising sector in terms of Venture funding between $5-15 millions\n",
    "d1_companywise2.raised_amount_usd.sum().sort_values(ascending=False).head(5)"
   ]
  },
  {
   "cell_type": "code",
   "execution_count": 36,
   "metadata": {},
   "outputs": [
    {
     "data": {
      "text/plain": [
       "company_permalink\n",
       "/organization/celltick-technologies    37500000.0\n",
       "/organization/mythings                 34000000.0\n",
       "/organization/zopa                     32900000.0\n",
       "/organization/imagini                  28550000.0\n",
       "/organization/marketinvoice            25553007.0\n",
       "Name: raised_amount_usd, dtype: float64"
      ]
     },
     "execution_count": 36,
     "metadata": {},
     "output_type": "execute_result"
    }
   ],
   "source": [
    "# Finding out the top-5 firms in UK from Social, Finance, Analytics, Advertising sector in terms of Venture funding between $5-15 millions \n",
    "d2_companywise2.raised_amount_usd.sum().sort_values(ascending=False).head(5)"
   ]
  },
  {
   "cell_type": "code",
   "execution_count": 38,
   "metadata": {},
   "outputs": [
    {
     "data": {
      "text/plain": [
       "company_permalink\n",
       "/organization/manthan-systems               50700000.0\n",
       "/organization/komli-media                   28000000.0\n",
       "/organization/shopclues-com                 25000000.0\n",
       "/organization/intarvo                       21900000.0\n",
       "/organization/grameen-financial-services    21556050.0\n",
       "Name: raised_amount_usd, dtype: float64"
      ]
     },
     "execution_count": 38,
     "metadata": {},
     "output_type": "execute_result"
    }
   ],
   "source": [
    "# Finding out the top-5 firms in India from Social, Finance, Analytics, Advertising sector in terms of Venture funding between $5-15 millions \n",
    "d3_companywise2.raised_amount_usd.sum().sort_values(ascending=False).head(5)"
   ]
  },
  {
   "cell_type": "markdown",
   "metadata": {},
   "source": [
    "#### Creating a plot showing the number of investments in the top 3 sectors of the top 3 countries on one chart (for Venture investment type)\n",
    "Plot is created by executing the following basic steps:\n",
    "1. Create dataframes of top-3 countries comprising of no. of investments in top-3 sectors (in terms of no. of investments)\n",
    "2. Create a single dataframe with no. of investments in top-3 sectors of all the top-3 countries\n",
    "3. Plot a bar graph of the No. of investments in the top-3 sectors of top-3 investment countries"
   ]
  },
  {
   "cell_type": "code",
   "execution_count": 39,
   "metadata": {},
   "outputs": [
    {
     "data": {
      "image/png": "[encoded data removed]",
      "text/plain": [
       "<Figure size 960x640 with 1 Axes>"
      ]
     },
     "metadata": {},
     "output_type": "display_data"
    }
   ],
   "source": [
    "# Create dataframes of top-3 countries comprising of no. of investments in top-3 sectors (in terms of no. of investments)\n",
    "d1_plot = d1_sectorwise.raised_amount_usd.count().sort_values(ascending = False).head(3).to_frame()\n",
    "d1_plot.reset_index(level=0, inplace=True)\n",
    "d1_plot['Country'] = 'USA'\n",
    "d2_plot = d2_sectorwise.raised_amount_usd.count().sort_values(ascending = False).head(3).to_frame()\n",
    "d2_plot.reset_index(level=0, inplace=True)\n",
    "d2_plot['Country'] = 'GBR'\n",
    "d3_plot = d3_sectorwise.raised_amount_usd.count().sort_values(ascending = False).head(3).to_frame()\n",
    "d3_plot.reset_index(level=0, inplace=True)\n",
    "d3_plot['Country'] = 'IND'\n",
    "\n",
    "# Create a single dataframe with no. of investments in top-3 sectors of all the top-3 countries\n",
    "plot4_data = d1_plot\n",
    "plot4_data = plot4_data.append(d2_plot,ignore_index = True)\n",
    "plot4_data = plot4_data.append(d3_plot,ignore_index = True)\n",
    "plot4_data = plot4_data.rename(columns={'main_sector':'Sector','raised_amount_usd':'no_of_investments'})\n",
    "\n",
    "# Plot a bar graph of the No. of investments in the top-3 sectors of top-3 investment countries\n",
    "plt.figure(num=None, figsize=(12, 8), dpi=80, facecolor='w', edgecolor='k')\n",
    "plt.title('No. of investmnet in Top-3 sectors of Top-3 investment countries')\n",
    "plot4 = sns.barplot(x='Country', y='no_of_investments', hue='Sector',data=plot4_data)\n",
    "plot4.set(xlabel='Country', ylabel='No. of investments')\n",
    "plt.show()"
   ]
  },
  {
   "cell_type": "markdown",
   "metadata": {},
   "source": [
    "------------------------------End Of Code--------------------------------------------------------------------------------------"
   ]
  }
 ],
 "metadata": {
  "kernelspec": {
   "display_name": "Python 3",
   "language": "python",
   "name": "python3"
  },
  "language_info": {
   "codemirror_mode": {
    "name": "ipython",
    "version": 3
   },
   "file_extension": ".py",
   "mimetype": "text/x-python",
   "name": "python",
   "nbconvert_exporter": "python",
   "pygments_lexer": "ipython3",
   "version": "3.7.3"
  }
 },
 "nbformat": 4,
 "nbformat_minor": 2
}
